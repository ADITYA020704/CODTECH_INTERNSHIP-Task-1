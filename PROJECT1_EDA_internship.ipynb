{
  "nbformat": 4,
  "nbformat_minor": 0,
  "metadata": {
    "colab": {
      "provenance": [],
      "authorship_tag": "ABX9TyMX6UpGyxyxpzx9el3EguOk",
      "include_colab_link": true
    },
    "kernelspec": {
      "name": "python3",
      "display_name": "Python 3"
    },
    "language_info": {
      "name": "python"
    }
  },
  "cells": [
    {
      "cell_type": "markdown",
      "metadata": {
        "id": "view-in-github",
        "colab_type": "text"
      },
      "source": [
        "<a href=\"https://colab.research.google.com/github/ADITYA020704/CODTECH_INTERNSHIP-Task-1/blob/main/PROJECT1_EDA_internship.ipynb\" target=\"_parent\"><img src=\"https://colab.research.google.com/assets/colab-badge.svg\" alt=\"Open In Colab\"/></a>"
      ]
    },
    {
      "cell_type": "markdown",
      "source": [
        "# **TASK ONE: EXPLORATORY DATA ANALYSIS (EDA)**\n",
        "\n",
        "---\n",
        "\n",
        "\n",
        "\n",
        "*Start with a dataset of your choice and perform EDA using libraries like pandas, numpy,\n",
        "and matplotlib or seaborn. Explore the data's characteristics, distributions, correlations,\n",
        "and outliers. Visualize your findings with histograms, scatter plots, and heatmaps to\n",
        "gain insights into the data.*\n",
        "\n"
      ],
      "metadata": {
        "id": "tAZGdObkxkiW"
      }
    },
    {
      "cell_type": "markdown",
      "source": [
        "\n",
        "#**ABOUT DATASET-**\n",
        "---\n",
        "*The World Happiness Report is a landmark survey of the state of global happiness . The report continues to gain global recognition as governments, organizations and civil society increasingly use happiness indicators to inform their policy-making decisions. Leading experts across fields – economics, psychology, survey analysis, national statistics, health, public policy and more – describe how measurements of well-being can be used effectively to assess the progress of nations. The reports review the state of happiness in the world today and show how the new science of happiness explains personal and national variations in happiness.*\n",
        "# SOURCE-\n",
        "https://www.kaggle.com/datasets/ajaypalsinghlo/world-happiness-report-2021/data"
      ],
      "metadata": {
        "id": "WVaQM_wjyMBH"
      }
    },
    {
      "cell_type": "markdown",
      "source": [
        "# STEP-1\n",
        "\n",
        "---\n",
        "Download the dataset.\n"
      ],
      "metadata": {
        "id": "KaHUwqrHz18w"
      }
    },
    {
      "cell_type": "code",
      "execution_count": 6,
      "metadata": {
        "id": "sRpmbs0uHOGT"
      },
      "outputs": [],
      "source": [
        "!pip install kaggle --quiet\n",
        "!pip install opendatasets --upgrade --quiet"
      ]
    },
    {
      "cell_type": "code",
      "source": [
        "import opendatasets as od\n",
        "download_url=\"https://www.kaggle.com/datasets/ajaypalsinghlo/world-happiness-report-2021\"\n",
        "od.download(download_url)"
      ],
      "metadata": {
        "id": "GTXdckVZWC2f",
        "collapsed": true
      },
      "execution_count": null,
      "outputs": []
    },
    {
      "cell_type": "code",
      "source": [
        "data_filename=\"/content/world-happiness-report-2021/world-happiness-report-2021.csv\""
      ],
      "metadata": {
        "id": "LBQAh9gGYNo6"
      },
      "execution_count": 12,
      "outputs": []
    },
    {
      "cell_type": "code",
      "source": [
        "import pandas as pd"
      ],
      "metadata": {
        "id": "I3uUbH29Yn4K"
      },
      "execution_count": 13,
      "outputs": []
    },
    {
      "cell_type": "code",
      "source": [
        "df=pd.read_csv(data_filename)"
      ],
      "metadata": {
        "id": "7lSw6kcnY11V"
      },
      "execution_count": 14,
      "outputs": []
    },
    {
      "cell_type": "code",
      "source": [
        "df"
      ],
      "metadata": {
        "id": "wYPZRVf2ZGi5"
      },
      "execution_count": null,
      "outputs": []
    },
    {
      "cell_type": "markdown",
      "source": [
        "# STEP-2 DATA PREPARATION & CLEANING.\n",
        "\n",
        "---\n",
        "\n",
        "*   Prepare the dataset.\n",
        "*   Find the outliers.\n",
        "*   Find missing values.\n",
        "*   Fix or remove missing values.\n",
        "\n",
        "\n",
        "\n",
        "\n"
      ],
      "metadata": {
        "id": "NrHamGcg0iLP"
      }
    },
    {
      "cell_type": "code",
      "source": [
        "df.columns"
      ],
      "metadata": {
        "id": "5uau6Q5qZoKm"
      },
      "execution_count": null,
      "outputs": []
    },
    {
      "cell_type": "code",
      "source": [
        "df.shape[0]"
      ],
      "metadata": {
        "collapsed": true,
        "id": "v589Mg8y1uef"
      },
      "execution_count": null,
      "outputs": []
    },
    {
      "cell_type": "code",
      "source": [
        "df.isna().sum()"
      ],
      "metadata": {
        "id": "1niSq5-wa4st",
        "collapsed": true
      },
      "execution_count": null,
      "outputs": []
    },
    {
      "cell_type": "code",
      "source": [
        "# Summary statistics\n",
        "summary_stats = df.describe()\n",
        "print(summary_stats)"
      ],
      "metadata": {
        "id": "yemTdFqCNFLQ"
      },
      "execution_count": null,
      "outputs": []
    },
    {
      "cell_type": "markdown",
      "source": [
        "# STEP-3 EDA\n",
        "---\n",
        "\n",
        "WE WILL LOOK INTO THE FOLLOWING THINGS AND WILL FIND THE CORRELATIONS.\n",
        "*   Ladder score.\n",
        "*   GDP per capita.\n",
        "*   Regions.\n",
        "*   Life expectancy.\n",
        "*   Social support.\n",
        "*   Other aspects.\n",
        "\n",
        "\n"
      ],
      "metadata": {
        "id": "Gut2q5OlNhDs"
      }
    },
    {
      "cell_type": "markdown",
      "source": [
        "# **PART-1 In this question set we will deal with piechart,histogram and bargraphs.**\n",
        "\n",
        "\n",
        "---\n",
        "\n",
        "\n",
        "\n",
        "\n",
        "\n",
        "\n"
      ],
      "metadata": {
        "id": "s559830PE7LQ"
      }
    },
    {
      "cell_type": "markdown",
      "source": [
        "# Q-1 What is the %age distribution of different regions?\n",
        "solution- In order to find out %age we made a piechart showing differnt regions."
      ],
      "metadata": {
        "id": "jCnQi_T47jby"
      }
    },
    {
      "cell_type": "code",
      "source": [
        "#PIE CHART FOR %DISTRIBUTION BY REGION\n",
        "import pandas as pd\n",
        "import matplotlib.pyplot as plt\n",
        "import seaborn as sns\n",
        "# Define a mapping for merging regions\n",
        "region_mapping = {\n",
        "    'Western Europe': 'Europe',\n",
        "    'Central and Eastern Europe': 'Europe',\n",
        "    'North America and ANZ': 'Americas',\n",
        "    'Latin America and Caribbean': 'Americas',\n",
        "    'Sub-Saharan Africa': 'Middle East+Africa',\n",
        "    'Middle East and Northern Africa': 'Middle East+Africa',\n",
        "    'SouthEast Asia': 'Asia',\n",
        "'East Asia': 'Asia',\n",
        "    'South Asia': 'Asia',\n",
        "    'Commonwealth of Independent States': 'Others'\n",
        "}\n",
        "# Apply the mapping to the 'Region' column\n",
        "df['Merged Region'] = df['Regional indicator'].map(region_mapping)\n",
        "\n",
        "# Count the number of occurrences of each merged region\n",
        "region_counts = df['Merged Region'].value_counts()\n",
        "\n",
        "# Create a pie chart\n",
        "plt.figure(figsize=(10, 7))\n",
        "plt.pie(region_counts, labels=region_counts.index, autopct='%1.1f%%', startangle=140, colors=sns.color_palette('viridis', len(region_counts)))\n",
        "\n",
        "plt.title('PIE CHART OF HAPPINESS REPORT')\n",
        "plt.show()\n"
      ],
      "metadata": {
        "id": "KvofVhL79mD8"
      },
      "execution_count": null,
      "outputs": []
    },
    {
      "cell_type": "markdown",
      "source": [
        "# Q-2a Top 10 most happiest and least happiest countries?\n",
        "# Q-2b Most & least happy country based on the region?\n",
        "---\n",
        "solution(2a)- we made bar graph for top and bottom 10 countries.\n",
        "\n",
        "solution(2b)- we made a bar graph based on differnt regions.\n"
      ],
      "metadata": {
        "id": "21xpz6PD9DIm"
      }
    },
    {
      "cell_type": "code",
      "source": [
        "#SOLUTION 2A\n",
        "import pandas as pd\n",
        "import matplotlib.pyplot as plt\n",
        "import seaborn as sns\n",
        "\n",
        "# Sort the dataset by happiness score\n",
        "df_sorted = df.sort_values(by='Ladder score', ascending=False)\n",
        "\n",
        "# Select the top 10 happiest countries\n",
        "top_10 = df_sorted.head(10)\n",
        "\n",
        "# Select the bottom 10 happiest countries\n",
        "bottom_10 = df_sorted.tail(10)\n",
        "\n",
        "# Combine top and bottom 10 into one DataFrame\n",
        "top_bottom_10 = pd.concat([top_10, bottom_10])\n",
        "\n",
        "# Create a bar plot\n",
        "plt.figure(figsize=(8, 6))\n",
        "ax=sns.barplot(data=top_bottom_10, x='Ladder score', y='Country name', hue='Regional indicator', dodge=False, palette='viridis')\n",
        "for p in ax.patches:\n",
        "    width = p.get_width()\n",
        "    ax.text(p.get_x() + width , p.get_y() + p.get_height()/2, '{:1.2f}'.format(width), va=\"center\")\n",
        "plt.title('Top 10 & Bottom 10 Countries')\n",
        "plt.xlabel('Happiness Score')\n",
        "plt.ylabel('Country')\n",
        "plt.legend(title='Region', bbox_to_anchor=(1.05, 1), loc='upper left')\n",
        "plt.show()\n",
        "#END\n",
        "\n",
        "#SOLUTION 2B\n",
        "combined_df['Happiness Status'] = ['Most Happy'] * len(most_happy_df) + ['Least Happy'] * len(least_happy_df)\n",
        "\n",
        "# Sort the combined DataFrame by region and then by happiness status to ensure no gaps within regions\n",
        "combined_df = combined_df.sort_values(by=['Regional indicator', 'Happiness Status'], ascending=[True, False])\n",
        "\n",
        "# Create a bar plot\n",
        "plt.figure(figsize=(8, 6))\n",
        "sns.barplot(data=combined_df, x='Country name', y='Ladder score',dodge=False, hue='Regional indicator', palette='viridis')\n",
        "\n",
        "plt.title('Most and Least Happy Country in Each Region')\n",
        "plt.xlabel('Country')\n",
        "plt.ylabel('Happiness Score')\n",
        "plt.xticks(rotation=90)\n",
        "plt.legend(title='Happiness Status', bbox_to_anchor=(1.05, 1), loc='upper left')\n",
        "plt.show()"
      ],
      "metadata": {
        "id": "aHeRCdZdA130"
      },
      "execution_count": null,
      "outputs": []
    },
    {
      "cell_type": "markdown",
      "source": [
        "# Q-3 What is distribution of happiness score looks like?\n",
        "---\n",
        "solution- we made a Histogram to show the distribution of happiness score.\n"
      ],
      "metadata": {
        "id": "i4BEyJsaBIOx"
      }
    },
    {
      "cell_type": "code",
      "source": [
        "# Histogram of Happiness Score with values on top\n",
        "plt.figure(figsize=(6, 4))\n",
        "ax = sns.histplot(df['Ladder score'], bins=30, kde=True)\n",
        "plt.title('Distribution of Happiness Score')\n",
        "plt.xlabel('Happiness Score')\n",
        "plt.ylabel('Frequency')\n",
        "\n",
        "for p in ax.patches:\n",
        "    height = p.get_height()\n",
        "    ax.text(p.get_x() + p.get_width() / 2., height + 0.1, '{:1.0f}'.format(height), ha=\"center\")\n",
        "\n",
        "plt.show()"
      ],
      "metadata": {
        "id": "M077bgbnNlsF"
      },
      "execution_count": null,
      "outputs": []
    },
    {
      "cell_type": "markdown",
      "source": [
        "# As one can observe that most countries scores lies between 5 & 6.\n",
        "---\n",
        "# SOME OTHER DISTRIBUTION SHOWN WITH THE HELP OF HISTOGRAM.\n",
        "\n"
      ],
      "metadata": {
        "id": "_K-l15dVCrdx"
      }
    },
    {
      "cell_type": "code",
      "source": [
        "# 1. Histograms for numerical features\n",
        "import pandas as pd\n",
        "import matplotlib.pyplot as plt\n",
        "import seaborn as sns\n",
        "numerical_features = ['Ladder score', 'Logged GDP per capita', 'Social support', 'Healthy life expectancy']\n",
        "df[numerical_features].hist(figsize=(8, 6), bins=15)\n",
        "plt.suptitle('Histograms of Numerical Features')\n",
        "plt.show()\n"
      ],
      "metadata": {
        "id": "0B03GzfLRNv4"
      },
      "execution_count": null,
      "outputs": []
    },
    {
      "cell_type": "markdown",
      "source": [
        "# Q-4 Happiness scores based on the regions?\n",
        "---\n",
        "solution- we made a bar graph by taking mean and median of happiness scores of different countries from same regions and compared with other regions.\n",
        "\n"
      ],
      "metadata": {
        "id": "k4Q3JcNKD2VF"
      }
    },
    {
      "cell_type": "code",
      "source": [
        "import pandas as pd\n",
        "import matplotlib.pyplot as plt\n",
        "import seaborn as sns\n",
        "plt.figure(figsize=(12, 8))\n",
        "sns.barplot(data=df, x='Ladder score', y='Regional indicator', palette='viridis',errorbar=None,dodge=False)\n",
        "plt.title('Happiness Score by Region')\n",
        "plt.xlabel('Happiness Score')\n",
        "plt.ylabel('Region')\n",
        "plt.show()"
      ],
      "metadata": {
        "id": "S-qB6ie-pqOf"
      },
      "execution_count": null,
      "outputs": []
    },
    {
      "cell_type": "code",
      "source": [
        "import pandas as pd\n",
        "import matplotlib.pyplot as plt\n",
        "import seaborn as sns\n",
        "\n",
        "# Assuming the dataset has multiple years of Happiness Score for each region\n",
        "# Group by Region and calculate mean and median Happiness Score for each year\n",
        "mean_scores_by_region = df.groupby('Regional indicator')['Ladder score'].mean()\n",
        "median_scores_by_region = df.groupby('Regional indicator')['Ladder score'].median()\n",
        "\n",
        "\n",
        "# Create a line plot\n",
        "plt.figure(figsize=(12, 8))\n",
        "# Remove sort_labels, it is not a valid argument for sns.lineplot()\n",
        "sns.lineplot(data=mean_scores_by_region, marker='o', label='Mean')\n",
        "sns.lineplot(data=median_scores_by_region, marker='s', label='Median')\n",
        "\n",
        "plt.title('Mean and Median Happiness Score by Region')\n",
        "plt.xlabel('Region')\n",
        "plt.ylabel('Happiness Score')\n",
        "plt.xticks(rotation=45)\n",
        "plt.grid(True)\n",
        "plt.tight_layout()\n",
        "plt.show()"
      ],
      "metadata": {
        "id": "cGMQkwdlvz1G"
      },
      "execution_count": null,
      "outputs": []
    },
    {
      "cell_type": "markdown",
      "source": [
        "# **PART-2 In this we will deal with scatter plots,Regression and Clustering.**\n",
        "\n",
        "---\n",
        "\n",
        "\n"
      ],
      "metadata": {
        "id": "qPCHyLI1eivP"
      }
    },
    {
      "cell_type": "markdown",
      "source": [
        "# Q-1 What is the relation between happiness score and GDP per capita?\n",
        "---\n",
        "Solution- With the help of scatterplots we found out that their is a positive correlation between GDP per capita and happiness scores.\n"
      ],
      "metadata": {
        "id": "dBe1RVWhHG0_"
      }
    },
    {
      "cell_type": "code",
      "source": [
        "#REGRESSION ANALYSIS\n",
        "import statsmodels.api as sm\n",
        "\n",
        "# Prepare the data\n",
        "X = df['Logged GDP per capita']\n",
        "y = df['Ladder score']\n",
        "X = sm.add_constant(X)\n",
        "\n",
        "# Fit the regression model\n",
        "model = sm.OLS(y, X).fit()\n",
        "\n",
        "# Print the summary\n",
        "print(model.summary())\n",
        "\n",
        "# Plot the regression line\n",
        "plt.figure(figsize=(10, 6))\n",
        "sns.regplot(x='Logged GDP per capita', y='Ladder score', data=df, line_kws={'color': 'red'})\n",
        "plt.title('Happiness Score vs. GDP per Capita')\n",
        "plt.xlabel('GDP per Capita')\n",
        "plt.ylabel('Happiness Score')\n",
        "plt.show()\n"
      ],
      "metadata": {
        "id": "Kkyz2VtxSYCh"
      },
      "execution_count": null,
      "outputs": []
    },
    {
      "cell_type": "markdown",
      "source": [
        "# Q-2 What is the relation between happiness score and healthy life expectancy?\n",
        "---\n",
        "Solution- we found out that their is positive correlation between happiness score and Healthy life expectancy by the help of scatter plot.\n"
      ],
      "metadata": {
        "id": "HsErjnfKNIR8"
      }
    },
    {
      "cell_type": "code",
      "source": [
        "# Example: Happiness Score vs Healthy Life Expectancy\n",
        "import pandas as pd\n",
        "import matplotlib.pyplot as plt\n",
        "import seaborn as sns\n",
        "plt.figure(figsize=(10, 6))\n",
        "sns.scatterplot(data=df, x='Healthy life expectancy', y='Ladder score')\n",
        "sns.regplot(data=df, x='Healthy life expectancy', y='Ladder score', scatter_kws={'s':10}, line_kws={'color':'red'})\n",
        "plt.title('Happiness Score vs Healthy Life Expectancy')\n",
        "plt.xlabel('GDP per capita')\n",
        "plt.ylabel('Happiness score')\n",
        "plt.show()"
      ],
      "metadata": {
        "id": "2G84UnJjNKDI"
      },
      "execution_count": null,
      "outputs": []
    },
    {
      "cell_type": "markdown",
      "source": [
        "# Q-3 Does the positive correlation between per capita income and happiness score remains correct for different regions?\n",
        "---\n",
        "Solution- Yes it does, with the help of clustering technique we found out that it remains same(correct).\n"
      ],
      "metadata": {
        "id": "H16tcGlyJA9d"
      }
    },
    {
      "cell_type": "code",
      "source": [
        "# Scatter plot: Happiness Score vs GDP per Capita\n",
        "# Different colors for different regions and sizes based on Population\n",
        "import pandas as pd\n",
        "import matplotlib.pyplot as plt\n",
        "import seaborn as sns\n",
        "# Define the list of regions to include\n",
        "regions_to_include = ['Western Europe', 'Sub-Saharan Africa', 'Latin America and Caribbean']\n",
        "# Filter the dataset to include only the specified regions\n",
        "filtered_df = df[df['Regional indicator'].isin(regions_to_include)]\n",
        "# CUSTOM_PALETTE\n",
        "custom_palette = ['#FF6347', '#000000', '#32CD32']\n",
        "\n",
        "plt.figure(figsize=(14, 10))\n",
        "sns.scatterplot(data=filtered_df, x='Logged GDP per capita', y='Ladder score',\n",
        "                hue='Regional indicator',  alpha=0.9, palette=custom_palette) # Pass the list directly\n",
        "\n",
        "# Add a linear trendline\n",
        "sns.regplot(data=filtered_df, x='Logged GDP per capita', y='Ladder score', scatter=False, color='red')\n",
        "\n",
        "plt.title('Happiness Score vs GDP per Capita with Different Dots')\n",
        "plt.xlabel('GDP per Capita')\n",
        "plt.ylabel('Happiness Score')\n",
        "plt.legend(title='Region', bbox_to_anchor=(1.05, 1), loc='upper left')\n",
        "plt.show()"
      ],
      "metadata": {
        "id": "qIoov4HKdwJq"
      },
      "execution_count": null,
      "outputs": []
    },
    {
      "cell_type": "markdown",
      "source": [
        "#**PART-3 In this we will deal with heatmap,Hypothesis testing and Random forest technique.**\n",
        "\n",
        "---\n",
        "\n"
      ],
      "metadata": {
        "id": "-P1kWgxNeuMz"
      }
    },
    {
      "cell_type": "markdown",
      "source": [
        "# Q- FInd the relation between multiple features and happiness score?\n",
        "---\n",
        "Solution-We made a heatmap to find correlation between multiple functions.\n"
      ],
      "metadata": {
        "id": "p4N1mgXlLTLn"
      }
    },
    {
      "cell_type": "code",
      "source": [
        "# 3. Heatmap to visualize correlations between numerical features\n",
        "import matplotlib.pyplot as plt\n",
        "import seaborn as sns\n",
        "\n",
        "plt.figure(figsize=(10, 8))\n",
        "\n",
        "# 'Ladder score' is now 'Happiness score' after renaming\n",
        "numerical_features = ['Happiness score', 'Logged GDP per capita','Social support', 'Freedom to make life choices', 'Generosity', 'Perceptions of corruption']\n",
        "\n",
        "# Create a copy of the DataFrame and rename the column for correlation analysis\n",
        "df_corr = df.copy()  # Create a copy to avoid modifying the original DataFrame\n",
        "df_corr = df_corr.rename(columns={'Ladder score': 'Happiness score'})\n",
        "\n",
        "correlation_matrix = df_corr[numerical_features].corr()  # Calculate correlation using the renamed column\n",
        "sns.heatmap(correlation_matrix, annot=True, cmap='coolwarm', linewidths=0.5)\n",
        "plt.title('Correlation Heatmap of Numerical Features')\n",
        "plt.show()"
      ],
      "metadata": {
        "id": "e79ZAL6Ag5Ga"
      },
      "execution_count": null,
      "outputs": []
    },
    {
      "cell_type": "markdown",
      "source": [
        "# Q-2 Perform analysis to find out differences between-\n",
        "*   (A)-Western Europe and Sub Sahara Africa.\n",
        "*   (B)-Sub Sahara Africa and South Asia.\n",
        "---\n",
        "solution- we did hypothesis testing and find out\n",
        "\n",
        "\n",
        "* (A)-The difference in happiness scores between the two regions is statistically significant. (West Europe and Sub sahara africa)  \n",
        "*  (B)-The difference in happiness scores between the two regions is not statistically significant.(sub sahara africa and south asia)\n",
        "\n",
        "\n",
        "\n",
        "\n",
        "\n"
      ],
      "metadata": {
        "id": "vjKxOhVhMhkz"
      }
    },
    {
      "cell_type": "code",
      "source": [
        "from scipy.stats import ttest_ind\n",
        "\n",
        "# Filter data for two regions\n",
        "region1 = df[df['Regional indicator'] == 'Western Europe']['Ladder score']\n",
        "region2 = df[df['Regional indicator'] == 'Sub-Saharan Africa']['Ladder score']\n",
        "\n",
        "# Perform t-test\n",
        "t_stat, p_value = ttest_ind(region1, region2)\n",
        "\n",
        "print(f\"T-statistic: {t_stat}\")\n",
        "print(f\"P-value: {p_value}\")\n",
        "\n",
        "if p_value < 0.05:\n",
        "    print(\"The difference in happiness scores between the two regions is statistically significant.\")\n",
        "else:\n",
        "    print(\"The difference in happiness scores between the two regions is not statistically significant.\")\n",
        "#END\n",
        "# Filter data for two regions\n",
        "region3 = df[df['Regional indicator'] == 'South Asia']['Ladder score']\n",
        "region4 = df[df['Regional indicator'] == 'Sub-Saharan Africa']['Ladder score']\n",
        "\n",
        "# Perform t-test\n",
        "t_stat, p_value = ttest_ind(region3, region4)\n",
        "\n",
        "print(f\"T-statistic: {t_stat}\")\n",
        "print(f\"P-value: {p_value}\")\n",
        "\n",
        "if p_value < 0.05:\n",
        "    print(\"The difference in happiness scores between the two regions is statistically significant.\")\n",
        "else:\n",
        "    print(\"The difference in happiness scores between the two regions is not statistically significant.\")\n"
      ],
      "metadata": {
        "id": "rkneKIVFRfr8"
      },
      "execution_count": null,
      "outputs": []
    },
    {
      "cell_type": "markdown",
      "source": [
        "# Q-3 Which Feature is the most important in Predicting happiness score?\n",
        "---\n",
        "Solution- With the help of ML_random-forrest_model,we found out social support followed by per capita income are most important measures.  \n",
        "\n"
      ],
      "metadata": {
        "id": "qaLpZ0EAOzXf"
      }
    },
    {
      "cell_type": "code",
      "source": [
        "from sklearn.ensemble import RandomForestRegressor\n",
        "from sklearn.model_selection import train_test_split\n",
        "from sklearn.metrics import mean_squared_error\n",
        "\n",
        "# Prepare the data\n",
        "features = ['Logged GDP per capita', 'Social support', 'Healthy life expectancy', 'Freedom to make life choices', 'Generosity', 'Perceptions of corruption']\n",
        "X = df[features]\n",
        "y = df['Ladder score']\n",
        "\n",
        "# Split the data\n",
        "X_train, X_test, y_train, y_test = train_test_split(X, y, test_size=0.2, random_state=42)\n",
        "\n",
        "# Train the model\n",
        "model = RandomForestRegressor(n_estimators=100, random_state=42)\n",
        "model.fit(X_train, y_train)\n",
        "\n",
        "# Make predictions\n",
        "y_pred = model.predict(X_test)\n",
        "\n",
        "# Evaluate the model\n",
        "mse = mean_squared_error(y_test, y_pred)\n",
        "print(f\"Mean Squared Error: {mse}\")\n",
        "\n",
        "# Feature importance\n",
        "feature_importance = pd.Series(model.feature_importances_, index=features).sort_values(ascending=False)\n",
        "print(feature_importance)\n",
        "\n",
        "# Plot feature importance\n",
        "plt.figure(figsize=(10, 6))\n",
        "sns.barplot(x=feature_importance, y=feature_importance.index, palette='viridis')\n",
        "plt.title('Feature Importance in Predicting Happiness Score')\n",
        "plt.xlabel('Importance')\n",
        "plt.ylabel('Feature')\n",
        "plt.show()\n"
      ],
      "metadata": {
        "id": "9cDyeSeTWVN3"
      },
      "execution_count": null,
      "outputs": []
    },
    {
      "cell_type": "markdown",
      "source": [
        "#                          **THANK_YOU**\n",
        "\n",
        "---\n",
        "\n"
      ],
      "metadata": {
        "id": "lLtiLWhFxiXH"
      }
    }
  ]
}